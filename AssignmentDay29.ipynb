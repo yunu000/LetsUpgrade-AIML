{
  "nbformat": 4,
  "nbformat_minor": 0,
  "metadata": {
    "colab": {
      "name": "AssignmentDay29",
      "provenance": [],
      "collapsed_sections": [],
      "authorship_tag": "ABX9TyNK94hYqHxFOr3XSMNv34CK",
      "include_colab_link": true
    },
    "kernelspec": {
      "name": "python3",
      "display_name": "Python 3"
    }
  },
  "cells": [
    {
      "cell_type": "markdown",
      "metadata": {
        "id": "view-in-github",
        "colab_type": "text"
      },
      "source": [
        "<a href=\"https://colab.research.google.com/github/yunu000/LetsUpgrade-AIML/blob/master/AssignmentDay29.ipynb\" target=\"_parent\"><img src=\"https://colab.research.google.com/assets/colab-badge.svg\" alt=\"Open In Colab\"/></a>"
      ]
    },
    {
      "cell_type": "markdown",
      "metadata": {
        "id": "RYLQ0qsvl21Q"
      },
      "source": [
        "### A feedforward function \n",
        "#### Takes input and apply the concept of feedforwarding as done in case of neural network\n",
        "Considering one neuron per layer"
      ]
    },
    {
      "cell_type": "code",
      "metadata": {
        "id": "deSMVyoPivPG"
      },
      "source": [
        "def feedforwarding(layers,input,weight,bias):\n",
        "  if layers-1==1 :\n",
        "    return input*weight+bias\n",
        "  output=input*weight+bias\n",
        "  return feedforwarding(layers-1,output,weight+1,bias)"
      ],
      "execution_count": null,
      "outputs": []
    },
    {
      "cell_type": "code",
      "metadata": {
        "id": "ItbwDBEckt5v",
        "outputId": "7a3eeade-a476-49ab-c6b1-7191686bad3a",
        "colab": {
          "base_uri": "https://localhost:8080/",
          "height": 34
        }
      },
      "source": [
        "print(feedforwarding(2,10,1,1))"
      ],
      "execution_count": null,
      "outputs": [
        {
          "output_type": "stream",
          "text": [
            "11\n"
          ],
          "name": "stdout"
        }
      ]
    }
  ]
}