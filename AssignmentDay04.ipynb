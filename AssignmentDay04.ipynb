{
  "nbformat": 4,
  "nbformat_minor": 0,
  "metadata": {
    "colab": {
      "name": "AssignmentDay04.ipynb",
      "provenance": [],
      "collapsed_sections": [],
      "toc_visible": true,
      "authorship_tag": "ABX9TyNxco28vXCJVOha44cUFlFb",
      "include_colab_link": true
    },
    "kernelspec": {
      "name": "python3",
      "display_name": "Python 3"
    }
  },
  "cells": [
    {
      "cell_type": "markdown",
      "metadata": {
        "id": "view-in-github",
        "colab_type": "text"
      },
      "source": [
        "<a href=\"https://colab.research.google.com/github/yunu000/LetsUpgrade-AIML/blob/master/AssignmentDay04.ipynb\" target=\"_parent\"><img src=\"https://colab.research.google.com/assets/colab-badge.svg\" alt=\"Open In Colab\"/></a>"
      ]
    },
    {
      "cell_type": "markdown",
      "metadata": {
        "id": "p-g_jWMrUydV",
        "colab_type": "text"
      },
      "source": [
        "# Question no. 1"
      ]
    },
    {
      "cell_type": "markdown",
      "metadata": {
        "id": "7ZagtatMVo9x",
        "colab_type": "text"
      },
      "source": [
        "We can perform all four basic arithmetic operations on complex numbers.\n",
        "\n",
        "But floor and modulo operation can't be implemented on complex numbers, if done generates an error."
      ]
    },
    {
      "cell_type": "code",
      "metadata": {
        "id": "Ggguj68zVEps",
        "colab_type": "code",
        "colab": {
          "base_uri": "https://localhost:8080/",
          "height": 87
        },
        "outputId": "bb1b8c9f-712c-4dd7-f8d1-d69f496770c1"
      },
      "source": [
        "a=2+5j\n",
        "b=3+6j\n",
        "print(a+b)\n",
        "print(a-b)\n",
        "print(a*b)\n",
        "print(a/b)"
      ],
      "execution_count": 17,
      "outputs": [
        {
          "output_type": "stream",
          "text": [
            "(5+11j)\n",
            "(-1-1j)\n",
            "(-24+27j)\n",
            "(0.8+0.06666666666666667j)\n"
          ],
          "name": "stdout"
        }
      ]
    },
    {
      "cell_type": "markdown",
      "metadata": {
        "id": "8bgDEWL5XwKi",
        "colab_type": "text"
      },
      "source": [
        "# Question no. 2\n",
        "## range(start,stop,step)\n",
        "\n",
        "range function generates sequence of integers with a default step size of 1. \n",
        "\n",
        "range function can be implemented in three different ways.\n",
        "\n",
        "## range(stop)\n",
        "In this implementation sequence starts from 0 and with a default step of 1 and the stop number is not included.\n",
        "\n",
        "##range(start,stop)\n",
        "In this type of implementation sequence starts from the specified starting point with a step size of 1 and the limit value is excluded.\n",
        "\n",
        "##range(start,stop,step)\n",
        "In this type of implementation sequence is generated with a specified step size and start include and and stop excluded. "
      ]
    },
    {
      "cell_type": "code",
      "metadata": {
        "id": "wvnAX_g5X0Gy",
        "colab_type": "code",
        "colab": {
          "base_uri": "https://localhost:8080/",
          "height": 34
        },
        "outputId": "8500b0a7-5777-4290-b483-3daa67b6205a"
      },
      "source": [
        "for i in range(2,10,2):\n",
        "  print(i,end=\" \")"
      ],
      "execution_count": 18,
      "outputs": [
        {
          "output_type": "stream",
          "text": [
            "2 4 6 8 "
          ],
          "name": "stdout"
        }
      ]
    },
    {
      "cell_type": "markdown",
      "metadata": {
        "id": "XMACkilFXjtl",
        "colab_type": "text"
      },
      "source": [
        "# Question no. 3"
      ]
    },
    {
      "cell_type": "code",
      "metadata": {
        "id": "8Jw9dJ32VUQU",
        "colab_type": "code",
        "colab": {
          "base_uri": "https://localhost:8080/",
          "height": 34
        },
        "outputId": "e4d4ee2c-7d3d-404b-cdc4-1a3ab0d9fb58"
      },
      "source": [
        "c=20\n",
        "d=10\n",
        "if(c-d>25) :\n",
        "  print(c*d)\n",
        "else:\n",
        "  print(c/d)"
      ],
      "execution_count": 19,
      "outputs": [
        {
          "output_type": "stream",
          "text": [
            "2.0\n"
          ],
          "name": "stdout"
        }
      ]
    },
    {
      "cell_type": "markdown",
      "metadata": {
        "id": "4YbyO7cAXdS2",
        "colab_type": "text"
      },
      "source": [
        "# Question no. 4"
      ]
    },
    {
      "cell_type": "code",
      "metadata": {
        "id": "R8jlf9a6Wm_V",
        "colab_type": "code",
        "colab": {
          "base_uri": "https://localhost:8080/",
          "height": 34
        },
        "outputId": "26a59c16-22f2-4250-8d4e-72991f38e040"
      },
      "source": [
        "lst=[1,2,3,4,5,6,7,8,9,10]\n",
        "for i in lst:\n",
        "  if(i%2==0):\n",
        "    print(i**2-2,end=\" \")"
      ],
      "execution_count": 20,
      "outputs": [
        {
          "output_type": "stream",
          "text": [
            "2 14 34 62 98 "
          ],
          "name": "stdout"
        }
      ]
    },
    {
      "cell_type": "markdown",
      "metadata": {
        "id": "bBmgV0K2XYWT",
        "colab_type": "text"
      },
      "source": [
        "# Question no. 5"
      ]
    },
    {
      "cell_type": "code",
      "metadata": {
        "id": "dsKxrMpnW8_Y",
        "colab_type": "code",
        "colab": {
          "base_uri": "https://localhost:8080/",
          "height": 34
        },
        "outputId": "3f709e99-b5fd-4638-8e0f-4be58cef3b28"
      },
      "source": [
        "lst=[10,2,4,67,34,21,32,42,12,8]\n",
        "for i in lst:\n",
        "  if(i/2 >7):\n",
        "    print(i,end=\" \")\n"
      ],
      "execution_count": 21,
      "outputs": [
        {
          "output_type": "stream",
          "text": [
            "67 34 21 32 42 "
          ],
          "name": "stdout"
        }
      ]
    }
  ]
}