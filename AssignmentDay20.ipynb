{
  "nbformat": 4,
  "nbformat_minor": 0,
  "metadata": {
    "colab": {
      "name": "AssignmentDay20.ipynb",
      "provenance": [],
      "toc_visible": true,
      "authorship_tag": "ABX9TyPJzuW2qBFEyvaksaNaY+oz",
      "include_colab_link": true
    },
    "kernelspec": {
      "name": "python3",
      "display_name": "Python 3"
    }
  },
  "cells": [
    {
      "cell_type": "markdown",
      "metadata": {
        "id": "view-in-github",
        "colab_type": "text"
      },
      "source": [
        "<a href=\"https://colab.research.google.com/github/yunu000/LetsUpgrade-AIML/blob/master/AssignmentDay20.ipynb\" target=\"_parent\"><img src=\"https://colab.research.google.com/assets/colab-badge.svg\" alt=\"Open In Colab\"/></a>"
      ]
    },
    {
      "cell_type": "markdown",
      "metadata": {
        "id": "yTP_X449zxZY"
      },
      "source": [
        "#Question no. 1\n"
      ]
    },
    {
      "cell_type": "code",
      "metadata": {
        "id": "mjoDrJcM1OaK"
      },
      "source": [
        "pat=[ 5, 4, 4, 3, 9, 4]\n",
        "jack=[ 4, 8, 7, 5, 1, 5]\n",
        "alex=[ 9, 9, 8, 10, 4, 10]"
      ],
      "execution_count": 1,
      "outputs": []
    },
    {
      "cell_type": "code",
      "metadata": {
        "id": "LBKCeaTd1hv4"
      },
      "source": [
        "from scipy import stats"
      ],
      "execution_count": 2,
      "outputs": []
    },
    {
      "cell_type": "code",
      "metadata": {
        "id": "wOXMJmuT2nsj"
      },
      "source": [
        "f,p=stats.f_oneway(pat,jack,alex)"
      ],
      "execution_count": 6,
      "outputs": []
    },
    {
      "cell_type": "code",
      "metadata": {
        "id": "7dpGJdYe2uWH",
        "outputId": "f2d61e0d-fad8-4e86-94cc-285efb67507c",
        "colab": {
          "base_uri": "https://localhost:8080/",
          "height": 34
        }
      },
      "source": [
        "print(p)"
      ],
      "execution_count": 4,
      "outputs": [
        {
          "output_type": "stream",
          "text": [
            "0.029667763955533364\n"
          ],
          "name": "stdout"
        }
      ]
    },
    {
      "cell_type": "code",
      "metadata": {
        "id": "hF46TEHk2vyK"
      },
      "source": [
        "#Thus p value is less than 0.05 therefor we reject the null hypothesis which shows there is no statistical significance and thus there is a difference in means."
      ],
      "execution_count": null,
      "outputs": []
    }
  ]
}