{
  "nbformat": 4,
  "nbformat_minor": 0,
  "metadata": {
    "colab": {
      "name": "AssignmentDay05.ipynb",
      "provenance": [],
      "authorship_tag": "ABX9TyPHugC2eEUpOrxOHGCWT3jP",
      "include_colab_link": true
    },
    "kernelspec": {
      "name": "python3",
      "display_name": "Python 3"
    }
  },
  "cells": [
    {
      "cell_type": "markdown",
      "metadata": {
        "id": "view-in-github",
        "colab_type": "text"
      },
      "source": [
        "<a href=\"https://colab.research.google.com/github/yunu000/LetsUpgrade-AIML/blob/master/AssignmentDay05.ipynb\" target=\"_parent\"><img src=\"https://colab.research.google.com/assets/colab-badge.svg\" alt=\"Open In Colab\"/></a>"
      ]
    },
    {
      "cell_type": "markdown",
      "metadata": {
        "id": "Ujh4jLzONC7g",
        "colab_type": "text"
      },
      "source": [
        "# Question no. 1"
      ]
    },
    {
      "cell_type": "code",
      "metadata": {
        "id": "cuPnrlhHNT23",
        "colab_type": "code",
        "colab": {
          "base_uri": "https://localhost:8080/",
          "height": 34
        },
        "outputId": "bb2b3915-d303-4c4c-af04-32b9664eb451"
      },
      "source": [
        "count=0\n",
        "num=3\n",
        "def checkPrime(n):\n",
        "  for i in range(2,n):\n",
        "    if(n%i==0):\n",
        "      return False\n",
        "  return True\n",
        "while(count<=20):\n",
        "  if(checkPrime(num)):\n",
        "    print(num,end=\" \")\n",
        "    count=count+1\n",
        "  num=num+2"
      ],
      "execution_count": 37,
      "outputs": [
        {
          "output_type": "stream",
          "text": [
            "3 5 7 11 13 17 19 23 29 31 37 41 43 47 53 59 61 67 71 73 79 "
          ],
          "name": "stdout"
        }
      ]
    },
    {
      "cell_type": "markdown",
      "metadata": {
        "id": "X4Ve2j02NmAE",
        "colab_type": "text"
      },
      "source": [
        "# Question no. 2"
      ]
    },
    {
      "cell_type": "code",
      "metadata": {
        "id": "8rinkZavPhpe",
        "colab_type": "code",
        "colab": {
          "base_uri": "https://localhost:8080/",
          "height": 301
        },
        "outputId": "c2a3d0bc-8e0e-4c4a-e1fe-27fbf72357e8"
      },
      "source": [
        "str=input(\"Enter a string.\\n\")\n",
        "\n",
        "#First Method\n",
        "print(str.capitalize())\n",
        "#Second Method\n",
        "print(str.isprintable())\n",
        "#Third Method\n",
        "print(str.upper())\n",
        "# Fourth Method\n",
        "print(str.lower())\n",
        "# Fifth Method\n",
        "print(str.isupper())\n",
        "# Sixth Method\n",
        "print(str.islower())\n",
        "# Seventh Method\n",
        "print(str.find(\"o\"))\n",
        "# Eighth Method\n",
        "print(str.count(\"o\"))\n",
        "#Ninth Method\n",
        "print(str.startswith(\"e\"))\n",
        "#Tenth Method\n",
        "print(str.casefold())\n",
        "#Eleventh Method\n",
        "print(str.isalpha())\n",
        "#Twelveth Method\n",
        "print(str.isdecimal())\n",
        "#Thirteenth Method\n",
        "print(str.replace(\"o\",\"y\"))\n",
        "#Fourteenth Method\n",
        "print(str.swapcase())\n",
        "#Fifteenth Method\n",
        "print(str.endswith(\"d\"))"
      ],
      "execution_count": 38,
      "outputs": [
        {
          "output_type": "stream",
          "text": [
            "Enter a stringYash\n",
            "Yash\n",
            "True\n",
            "YASH\n",
            "yash\n",
            "False\n",
            "False\n",
            "-1\n",
            "0\n",
            "False\n",
            "yash\n",
            "True\n",
            "False\n",
            "Yash\n",
            "yASH\n",
            "False\n"
          ],
          "name": "stdout"
        }
      ]
    },
    {
      "cell_type": "markdown",
      "metadata": {
        "id": "TWQKZceiSw61",
        "colab_type": "text"
      },
      "source": [
        "# Question no. 3\n"
      ]
    },
    {
      "cell_type": "code",
      "metadata": {
        "id": "tGUzbuP4S4rP",
        "colab_type": "code",
        "colab": {
          "base_uri": "https://localhost:8080/",
          "height": 105
        },
        "outputId": "3970d818-1704-41c9-bebf-de3510502866"
      },
      "source": [
        "def checkAnagram(str1,str2):\n",
        "  if(sorted(str1)==sorted(str2)):\n",
        "    return True\n",
        "  return False\n",
        "str1=input(\"Enter first string.\\n\")\n",
        "str2=input(\"Enter second string.\\n\")\n",
        "if(str1[::-1]==str2):\n",
        "  print(\"Plindrome and Anagram both\")\n",
        "elif(checkAnagram(str1,str2)):\n",
        "  print(\"Anagram Only\")\n",
        "else:\n",
        "  print(\"Neither palindrome nor anagram\")"
      ],
      "execution_count": 41,
      "outputs": [
        {
          "output_type": "stream",
          "text": [
            "Enter first string.\n",
            "hello\n",
            "Enter second string.\n",
            "world\n",
            "Neither palindrome nor anagram\n"
          ],
          "name": "stdout"
        }
      ]
    },
    {
      "cell_type": "markdown",
      "metadata": {
        "id": "4z5ti0X0TSMa",
        "colab_type": "text"
      },
      "source": [
        "# Question no. 4"
      ]
    },
    {
      "cell_type": "code",
      "metadata": {
        "id": "d3Lsl-laUjue",
        "colab_type": "code",
        "colab": {
          "base_uri": "https://localhost:8080/",
          "height": 70
        },
        "outputId": "f1e6f776-4934-46b6-8baf-013761d53ee2"
      },
      "source": [
        "str=input(\"Enter a string\\n\")\n",
        "outString=\"\"\n",
        "i=0\n",
        "while(i<len(str)):\n",
        "  if(str[i:i+1].isalpha()):\n",
        "    outString=outString+str[i:i+1]\n",
        "  i=i+1\n",
        "print(outString.lower())"
      ],
      "execution_count": 42,
      "outputs": [
        {
          "output_type": "stream",
          "text": [
            "Enter a string\n",
            "why not u & me\n",
            "whynotume\n"
          ],
          "name": "stdout"
        }
      ]
    }
  ]
}