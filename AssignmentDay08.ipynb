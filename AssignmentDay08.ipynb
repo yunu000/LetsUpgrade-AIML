{
  "nbformat": 4,
  "nbformat_minor": 0,
  "metadata": {
    "colab": {
      "name": "AssignmentDay08.ipynb",
      "provenance": [],
      "collapsed_sections": [
        "gBUAYoJOSKWX"
      ],
      "authorship_tag": "ABX9TyPDXnv/IaLQgiFLttmU9OAU",
      "include_colab_link": true
    },
    "kernelspec": {
      "name": "python3",
      "display_name": "Python 3"
    }
  },
  "cells": [
    {
      "cell_type": "markdown",
      "metadata": {
        "id": "view-in-github",
        "colab_type": "text"
      },
      "source": [
        "<a href=\"https://colab.research.google.com/github/yunu000/LetsUpgrade-AIML/blob/master/AssignmentDay08.ipynb\" target=\"_parent\"><img src=\"https://colab.research.google.com/assets/colab-badge.svg\" alt=\"Open In Colab\"/></a>"
      ]
    },
    {
      "cell_type": "markdown",
      "metadata": {
        "id": "gBUAYoJOSKWX",
        "colab_type": "text"
      },
      "source": [
        "# Question no. 1"
      ]
    },
    {
      "cell_type": "markdown",
      "metadata": {
        "id": "rOV1nEPbK0eY",
        "colab_type": "text"
      },
      "source": [
        "## Map\n"
      ]
    },
    {
      "cell_type": "code",
      "metadata": {
        "id": "7hRVTwp-LN6f",
        "colab_type": "code",
        "colab": {
          "base_uri": "https://localhost:8080/",
          "height": 34
        },
        "outputId": "75169e88-7c64-4f1b-ebe2-19d25567fa6e"
      },
      "source": [
        "def sqr(a):\n",
        "  return a*a\n",
        "x=map(sqr,[1,2,3,4,5])\n",
        "print(list(x))"
      ],
      "execution_count": null,
      "outputs": [
        {
          "output_type": "stream",
          "text": [
            "[1, 4, 9, 16, 25]\n"
          ],
          "name": "stdout"
        }
      ]
    },
    {
      "cell_type": "code",
      "metadata": {
        "id": "AlaRFltHONfO",
        "colab_type": "code",
        "colab": {
          "base_uri": "https://localhost:8080/",
          "height": 34
        },
        "outputId": "79709230-cf39-46ef-9305-99d6e6a083c4"
      },
      "source": [
        "print(list(map(sqr,[1,2,3,4,5])))"
      ],
      "execution_count": null,
      "outputs": [
        {
          "output_type": "stream",
          "text": [
            "[1, 4, 9, 16, 25]\n"
          ],
          "name": "stdout"
        }
      ]
    },
    {
      "cell_type": "code",
      "metadata": {
        "id": "q0E0tg64PkLT",
        "colab_type": "code",
        "colab": {
          "base_uri": "https://localhost:8080/",
          "height": 34
        },
        "outputId": "18671987-ad03-4e28-8e78-5411efd5cc69"
      },
      "source": [
        "print(list(map(lambda x: x+5,[1,2,3,4,5])))"
      ],
      "execution_count": null,
      "outputs": [
        {
          "output_type": "stream",
          "text": [
            "[6, 7, 8, 9, 10]\n"
          ],
          "name": "stdout"
        }
      ]
    },
    {
      "cell_type": "markdown",
      "metadata": {
        "id": "DFdKqO72Pqp9",
        "colab_type": "text"
      },
      "source": [
        "## Filter"
      ]
    },
    {
      "cell_type": "code",
      "metadata": {
        "id": "Vto5ivw7PtCu",
        "colab_type": "code",
        "colab": {
          "base_uri": "https://localhost:8080/",
          "height": 34
        },
        "outputId": "7f108ba6-da3b-4fb4-9e1e-9b3e79b0b8e7"
      },
      "source": [
        "def fil(a):\n",
        "  return a>=3\n",
        "x=filter(fil,[1,2,3,4,5])\n",
        "print(list(x))"
      ],
      "execution_count": null,
      "outputs": [
        {
          "output_type": "stream",
          "text": [
            "[3, 4, 5]\n"
          ],
          "name": "stdout"
        }
      ]
    },
    {
      "cell_type": "code",
      "metadata": {
        "id": "ezTNG8YVP-JC",
        "colab_type": "code",
        "colab": {
          "base_uri": "https://localhost:8080/",
          "height": 34
        },
        "outputId": "ab966be4-c99b-4e92-9255-b6baf23e64dc"
      },
      "source": [
        "print(list(filter(fil,[1,2,3,4,5])))"
      ],
      "execution_count": null,
      "outputs": [
        {
          "output_type": "stream",
          "text": [
            "[3, 4, 5]\n"
          ],
          "name": "stdout"
        }
      ]
    },
    {
      "cell_type": "code",
      "metadata": {
        "id": "ZG8ozT7yQCR7",
        "colab_type": "code",
        "colab": {
          "base_uri": "https://localhost:8080/",
          "height": 34
        },
        "outputId": "ee6c16dd-de99-4164-d5ab-e2eb121b16e0"
      },
      "source": [
        "print(list(filter(lambda x: x>=3, [1,2,3,4,5])))"
      ],
      "execution_count": null,
      "outputs": [
        {
          "output_type": "stream",
          "text": [
            "[3, 4, 5]\n"
          ],
          "name": "stdout"
        }
      ]
    },
    {
      "cell_type": "markdown",
      "metadata": {
        "id": "T0rPFgZFQMhA",
        "colab_type": "text"
      },
      "source": [
        "## Reduce"
      ]
    },
    {
      "cell_type": "code",
      "metadata": {
        "id": "kZGmemXnQYw4",
        "colab_type": "code",
        "colab": {}
      },
      "source": [
        "from functools import reduce"
      ],
      "execution_count": null,
      "outputs": []
    },
    {
      "cell_type": "code",
      "metadata": {
        "id": "2l6hjCYcQRmW",
        "colab_type": "code",
        "colab": {
          "base_uri": "https://localhost:8080/",
          "height": 34
        },
        "outputId": "658533dd-6b09-4ecf-aac1-6e855a3fe19b"
      },
      "source": [
        "def sqr(a,b):\n",
        "  return a+b\n",
        "x=reduce(sqr,[1,2,3,4,5])\n",
        "print(x)"
      ],
      "execution_count": null,
      "outputs": [
        {
          "output_type": "stream",
          "text": [
            "15\n"
          ],
          "name": "stdout"
        }
      ]
    },
    {
      "cell_type": "code",
      "metadata": {
        "id": "ZO_MlczrQiQ-",
        "colab_type": "code",
        "colab": {
          "base_uri": "https://localhost:8080/",
          "height": 34
        },
        "outputId": "6974ebf8-a11e-4cb3-af40-6f5d294d8873"
      },
      "source": [
        "print(reduce(sqr,[1,2,3,4,5]))"
      ],
      "execution_count": null,
      "outputs": [
        {
          "output_type": "stream",
          "text": [
            "15\n"
          ],
          "name": "stdout"
        }
      ]
    },
    {
      "cell_type": "code",
      "metadata": {
        "id": "ugWfeNrSQmGo",
        "colab_type": "code",
        "colab": {
          "base_uri": "https://localhost:8080/",
          "height": 34
        },
        "outputId": "f4b119d3-05ee-4b6f-e388-e4c267f5a786"
      },
      "source": [
        "print(reduce(lambda x,y : x+y,[1,2,3,4,5]))"
      ],
      "execution_count": null,
      "outputs": [
        {
          "output_type": "stream",
          "text": [
            "15\n"
          ],
          "name": "stdout"
        }
      ]
    },
    {
      "cell_type": "markdown",
      "metadata": {
        "id": "9ckStqlDQwV1",
        "colab_type": "text"
      },
      "source": [
        "## Filter inside map"
      ]
    },
    {
      "cell_type": "code",
      "metadata": {
        "id": "V-d3fqGxQ65h",
        "colab_type": "code",
        "colab": {
          "base_uri": "https://localhost:8080/",
          "height": 34
        },
        "outputId": "e69c8e01-37fc-4bc7-a2e3-a9f02c385109"
      },
      "source": [
        "x=map(lambda x: x+3,filter(lambda x:x>=3,[1,2,3,4,5]))\n",
        "print(list(x))"
      ],
      "execution_count": null,
      "outputs": [
        {
          "output_type": "stream",
          "text": [
            "[6, 7, 8]\n"
          ],
          "name": "stdout"
        }
      ]
    },
    {
      "cell_type": "markdown",
      "metadata": {
        "id": "t84ykZKkRKKH",
        "colab_type": "text"
      },
      "source": [
        "##Map inside filter"
      ]
    },
    {
      "cell_type": "code",
      "metadata": {
        "id": "KFESyjOTRNVf",
        "colab_type": "code",
        "colab": {
          "base_uri": "https://localhost:8080/",
          "height": 34
        },
        "outputId": "9878243c-33fe-450e-bd49-687053ad5e95"
      },
      "source": [
        "x=filter(lambda x: x<5,map(lambda x: x+2,[1,2,3,4,5]))\n",
        "print(list(x))"
      ],
      "execution_count": null,
      "outputs": [
        {
          "output_type": "stream",
          "text": [
            "[3, 4]\n"
          ],
          "name": "stdout"
        }
      ]
    },
    {
      "cell_type": "markdown",
      "metadata": {
        "id": "umGXxNSSRddZ",
        "colab_type": "text"
      },
      "source": [
        "## Map and Filter inside Reduce"
      ]
    },
    {
      "cell_type": "code",
      "metadata": {
        "id": "y4aHzuNVRhkX",
        "colab_type": "code",
        "colab": {
          "base_uri": "https://localhost:8080/",
          "height": 34
        },
        "outputId": "83c6b02f-2ce2-4e2c-c618-9c8a5bfd2be9"
      },
      "source": [
        "x= reduce(lambda x,y:x*y,map(lambda x: x+3,filter(lambda x:x>=3,[1,2,3,4,5])))\n",
        "print(x)"
      ],
      "execution_count": null,
      "outputs": [
        {
          "output_type": "stream",
          "text": [
            "336\n"
          ],
          "name": "stdout"
        }
      ]
    },
    {
      "cell_type": "markdown",
      "metadata": {
        "id": "eAlKhgpbTSUh",
        "colab_type": "text"
      },
      "source": [
        "# Question no. 2"
      ]
    },
    {
      "cell_type": "markdown",
      "metadata": {
        "id": "SDN4IS72ToaB",
        "colab_type": "text"
      },
      "source": [
        "## Class and Objects\n",
        "\n",
        "---\n",
        "\n"
      ]
    },
    {
      "cell_type": "code",
      "metadata": {
        "id": "a323OYqIVHWu",
        "colab_type": "code",
        "colab": {}
      },
      "source": [
        "class Employee:\n",
        "  'Blueprint for all students' # Optional class documentation string\n",
        "  emp_count=0 #Known as class variable\n",
        "  def __init__(self,name,age) :\n",
        "    self.name=name\n",
        "    self.age=age\n",
        "    Employee.emp_count=Employee.emp_count+1 #Accessing class variable using class name  \n",
        "  def displayemployee(self):\n",
        "    print(\"Name :\",self.name,\"\\nAge :\",self.age)# Variables decared inside method with self are properties of an individual object and can be accessed by combination of objectname and '.' operator\n",
        "  def displayCount(self):\n",
        "    print(\"Student.emp_count\")\n",
        "  def displayclass(self):\n",
        "    print(self.__class__)\n",
        "  def __del__(self): #Known as destructor. Invoked when the object of class has no refrence to access that object\n",
        "    classname=self.__class__.__name__\n",
        "    print(classname,\"destroyed\")"
      ],
      "execution_count": 62,
      "outputs": []
    },
    {
      "cell_type": "markdown",
      "metadata": {
        "id": "mv30-4zfXFbu",
        "colab_type": "text"
      },
      "source": [
        "### Built-in class attribute\n"
      ]
    },
    {
      "cell_type": "code",
      "metadata": {
        "id": "ie_QmzXcVcVo",
        "colab_type": "code",
        "colab": {
          "base_uri": "https://localhost:8080/",
          "height": 125
        },
        "outputId": "4d2ce4ae-27e7-4572-dc4f-8282cbd9b9a3"
      },
      "source": [
        "print(Employee.__doc__) # Accessing documentation string\n",
        "print(Employee.__dict__) #Used to print namespace of a Class\n",
        "print(Employee.__name__) #Return name of class\n",
        "print(Employee.__module__) # Used to print module in which class is present, default is __main__\n",
        "print(Employee.__bases__) #Return tuple of base classes"
      ],
      "execution_count": 63,
      "outputs": [
        {
          "output_type": "stream",
          "text": [
            "Blueprint for all students\n",
            "{'__module__': '__main__', '__doc__': 'Blueprint for all students', 'emp_count': 0, '__init__': <function Employee.__init__ at 0x7f88aa5d62f0>, 'displayemployee': <function Employee.displayemployee at 0x7f88aa5d6b70>, 'displayCount': <function Employee.displayCount at 0x7f88aa5d6730>, 'displayclass': <function Employee.displayclass at 0x7f88aa5d6950>, '__del__': <function Employee.__del__ at 0x7f88aa5d69d8>, '__dict__': <attribute '__dict__' of 'Employee' objects>, '__weakref__': <attribute '__weakref__' of 'Employee' objects>}\n",
            "Employee\n",
            "__main__\n",
            "(<class 'object'>,)\n"
          ],
          "name": "stdout"
        }
      ]
    },
    {
      "cell_type": "markdown",
      "metadata": {
        "id": "9rpI8sEuW_gs",
        "colab_type": "text"
      },
      "source": [
        "### Creating object"
      ]
    },
    {
      "cell_type": "code",
      "metadata": {
        "id": "KhLGL17KVfJz",
        "colab_type": "code",
        "colab": {
          "base_uri": "https://localhost:8080/",
          "height": 34
        },
        "outputId": "a3631093-c8bb-4fc4-fc8a-8a630020d6b9"
      },
      "source": [
        "s1=Employee(\"Yash\",21)\n",
        "s2=Employee(\"Hello\",19)"
      ],
      "execution_count": 64,
      "outputs": [
        {
          "output_type": "stream",
          "text": [
            "Employee destroyed\n"
          ],
          "name": "stdout"
        }
      ]
    },
    {
      "cell_type": "code",
      "metadata": {
        "id": "06yyHgQhY6h8",
        "colab_type": "code",
        "colab": {
          "base_uri": "https://localhost:8080/",
          "height": 52
        },
        "outputId": "6c83d7e9-ac2d-44eb-e7f4-0296cf6cae2e"
      },
      "source": [
        "s1.displayemployee() # Using method to display properties of an object."
      ],
      "execution_count": 65,
      "outputs": [
        {
          "output_type": "stream",
          "text": [
            "Name : Yash \n",
            "Age : 21\n"
          ],
          "name": "stdout"
        }
      ]
    },
    {
      "cell_type": "code",
      "metadata": {
        "id": "PXfKn_j9WgoH",
        "colab_type": "code",
        "colab": {
          "base_uri": "https://localhost:8080/",
          "height": 34
        },
        "outputId": "7c8ce9db-6600-4546-9602-771e06fefeea"
      },
      "source": [
        "print(Employee.emp_count) # Class variable can be accessed using class name"
      ],
      "execution_count": 66,
      "outputs": [
        {
          "output_type": "stream",
          "text": [
            "2\n"
          ],
          "name": "stdout"
        }
      ]
    },
    {
      "cell_type": "markdown",
      "metadata": {
        "id": "JTaOE__y229H",
        "colab_type": "text"
      },
      "source": [
        "### Understanding concept of destructor\n",
        "\n",
        "All refrence to object named \"Hello\" are deleted and thus the object becomes anonymous and can't be accessed later on and thus garbage collector comes into picture and deletes the object.\n",
        "\n",
        "When an object gets deleted, its destructor is called automatically like the constructor gets activated on time of object creation. "
      ]
    },
    {
      "cell_type": "code",
      "metadata": {
        "id": "OsYsm1DhGk3q",
        "colab_type": "code",
        "colab": {
          "base_uri": "https://localhost:8080/",
          "height": 34
        },
        "outputId": "cccc9105-3c3e-464e-fd5d-396249b096ac"
      },
      "source": [
        "dummyrefrence=s2\n",
        "del s2\n",
        "del dummyrefrence"
      ],
      "execution_count": 67,
      "outputs": [
        {
          "output_type": "stream",
          "text": [
            "Employee destroyed\n"
          ],
          "name": "stdout"
        }
      ]
    },
    {
      "cell_type": "markdown",
      "metadata": {
        "id": "CZLbYasSy2Fv",
        "colab_type": "text"
      },
      "source": [
        "### Inheritance"
      ]
    },
    {
      "cell_type": "code",
      "metadata": {
        "id": "tg3NlryjzLgM",
        "colab_type": "code",
        "colab": {}
      },
      "source": [
        "class Parent:\n",
        "  parent_attribute=200\n",
        "  def __init__(self):\n",
        "    print(\"Inside parent's constructor\")\n",
        "  def set_attribute(self,atr):\n",
        "    Parent.parent_attribute=atr\n",
        "  def get_attribute(self):\n",
        "    print(Parent.parent_attribute)"
      ],
      "execution_count": 93,
      "outputs": []
    },
    {
      "cell_type": "code",
      "metadata": {
        "id": "pX3dfhG3zSkf",
        "colab_type": "code",
        "colab": {}
      },
      "source": [
        "class Child(Parent):\n",
        "  def __init__(self):\n",
        "    print(\"Inside Child's constructor\")\n",
        "  def get_attribute(self): # Overriding method to change parents functionality or adding new functionality into parent one.\n",
        "    print(\"Method overridden\")\n",
        "    print(Parent.parent_attribute)"
      ],
      "execution_count": 94,
      "outputs": []
    },
    {
      "cell_type": "code",
      "metadata": {
        "id": "3GPX-ijd0wBs",
        "colab_type": "code",
        "colab": {
          "base_uri": "https://localhost:8080/",
          "height": 87
        },
        "outputId": "b9301005-bd96-412c-ff0a-f1306e697fd1"
      },
      "source": [
        "c=Child() #Parent class is accessible through child class\n",
        "print(c.parent_attribute)\n",
        "c.set_attribute(100)\n",
        "c.get_attribute()\n"
      ],
      "execution_count": 95,
      "outputs": [
        {
          "output_type": "stream",
          "text": [
            "Inside Child's constructor\n",
            "200\n",
            "Method overridden\n",
            "100\n"
          ],
          "name": "stdout"
        }
      ]
    },
    {
      "cell_type": "code",
      "metadata": {
        "id": "HyFbipLe7Ap0",
        "colab_type": "code",
        "colab": {
          "base_uri": "https://localhost:8080/",
          "height": 34
        },
        "outputId": "806a8aad-3dea-4f83-8d92-880d8a3d19dd"
      },
      "source": [
        "issubclass(Child,Parent) # Returns true if first class is child of second"
      ],
      "execution_count": 86,
      "outputs": [
        {
          "output_type": "execute_result",
          "data": {
            "text/plain": [
              "True"
            ]
          },
          "metadata": {
            "tags": []
          },
          "execution_count": 86
        }
      ]
    },
    {
      "cell_type": "code",
      "metadata": {
        "id": "eIDkWTy87sLC",
        "colab_type": "code",
        "colab": {
          "base_uri": "https://localhost:8080/",
          "height": 34
        },
        "outputId": "6c3b2043-0e1a-433f-950b-ad91eddcd402"
      },
      "source": [
        "isinstance(c,Child) # Return true if first parameter is an object of second parameter which is of class type."
      ],
      "execution_count": 87,
      "outputs": [
        {
          "output_type": "execute_result",
          "data": {
            "text/plain": [
              "True"
            ]
          },
          "metadata": {
            "tags": []
          },
          "execution_count": 87
        }
      ]
    },
    {
      "cell_type": "markdown",
      "metadata": {
        "id": "iFccnlo473ML",
        "colab_type": "text"
      },
      "source": [
        "### Operator Overloading\n",
        "\n",
        "Certain operators can't function on classes and must be overloaded."
      ]
    },
    {
      "cell_type": "code",
      "metadata": {
        "id": "IoeQg65-9Je-",
        "colab_type": "code",
        "colab": {}
      },
      "source": [
        "class Complex:\n",
        "  __privatestring=\"Helps in data hidding\" #Private variables can't be accessed outside class. Can be used using getter and setter method. \n",
        "  def __init__(self,real,imaginary):\n",
        "    self.real=real\n",
        "    self.imaginary=imaginary\n",
        "  def __add__(self,other):\n",
        "    print(self.real+other.real,\" \",self.imaginary+other.imaginary)\n",
        "  def printprivatestring(self):\n",
        "    print(Complex.__privatestring)"
      ],
      "execution_count": 116,
      "outputs": []
    },
    {
      "cell_type": "code",
      "metadata": {
        "id": "GnjV_02f9ktq",
        "colab_type": "code",
        "colab": {}
      },
      "source": [
        "c1=Complex(1,2)\n",
        "c2=Complex(2,3)"
      ],
      "execution_count": 117,
      "outputs": []
    },
    {
      "cell_type": "code",
      "metadata": {
        "id": "ItZxrBbr9rTE",
        "colab_type": "code",
        "colab": {
          "base_uri": "https://localhost:8080/",
          "height": 34
        },
        "outputId": "3a9023a4-2e38-490f-bf8a-fed2dfa5cb9f"
      },
      "source": [
        "c1+c2 # If __add__(self,other) is not declared then this will generate an error  \"unsupported operand type(s) for +: 'Complex' and 'Complex' \""
      ],
      "execution_count": 118,
      "outputs": [
        {
          "output_type": "stream",
          "text": [
            "3   5\n"
          ],
          "name": "stdout"
        }
      ]
    },
    {
      "cell_type": "code",
      "metadata": {
        "id": "_biq2jmG9xLx",
        "colab_type": "code",
        "colab": {
          "base_uri": "https://localhost:8080/",
          "height": 34
        },
        "outputId": "e5395aeb-0fc5-4de6-e9f6-d7169fd167d8"
      },
      "source": [
        "c1.printprivatestring()"
      ],
      "execution_count": 119,
      "outputs": [
        {
          "output_type": "stream",
          "text": [
            "Helps in data hidding\n"
          ],
          "name": "stdout"
        }
      ]
    },
    {
      "cell_type": "code",
      "metadata": {
        "id": "nfskEV9P_Eqz",
        "colab_type": "code",
        "colab": {}
      },
      "source": [
        ""
      ],
      "execution_count": null,
      "outputs": []
    }
  ]
}