{
  "nbformat": 4,
  "nbformat_minor": 0,
  "metadata": {
    "colab": {
      "name": "AssignmentDay10.ipynb",
      "provenance": [],
      "authorship_tag": "ABX9TyO2IUOpdT9yHeZ3XF7MIhI6",
      "include_colab_link": true
    },
    "kernelspec": {
      "name": "python3",
      "display_name": "Python 3"
    }
  },
  "cells": [
    {
      "cell_type": "markdown",
      "metadata": {
        "id": "view-in-github",
        "colab_type": "text"
      },
      "source": [
        "<a href=\"https://colab.research.google.com/github/yunu000/LetsUpgrade-AIML/blob/master/AssignmentDay10.ipynb\" target=\"_parent\"><img src=\"https://colab.research.google.com/assets/colab-badge.svg\" alt=\"Open In Colab\"/></a>"
      ]
    },
    {
      "cell_type": "markdown",
      "metadata": {
        "id": "710uozco1Sw1",
        "colab_type": "text"
      },
      "source": [
        "\n",
        "# Question no. 1"
      ]
    },
    {
      "cell_type": "code",
      "metadata": {
        "id": "nKAVcrQv2Qpb",
        "colab_type": "code",
        "colab": {
          "base_uri": "https://localhost:8080/",
          "height": 230
        },
        "outputId": "29649c03-0ac0-45aa-fd1a-790f13c2615c"
      },
      "source": [
        "import numpy as np\n",
        "arr_first=np.array([[1,2,3],[7,6,5]])\n",
        "arr_second=np.array([[7,2,5],[1,6,3]])\n",
        "print(\"Greater : \\n\",np.greater(arr_first,arr_second))\n",
        "print(\"Greater-Equal: \\n\",np.greater_equal(arr_first,arr_second))\n",
        "print(\"Less : \\n\",np.less(arr_first,arr_second))\n",
        "print(\"Less-Equal : \\n\",np.less_equal(arr_first,arr_second))"
      ],
      "execution_count": 20,
      "outputs": [
        {
          "output_type": "stream",
          "text": [
            "Greater : \n",
            " [[False False False]\n",
            " [ True False  True]]\n",
            "Greater-Equal: \n",
            " [[False  True False]\n",
            " [ True  True  True]]\n",
            "Less : \n",
            " [[ True False  True]\n",
            " [False False False]]\n",
            "Less-Equal : \n",
            " [[ True  True  True]\n",
            " [False  True False]]\n"
          ],
          "name": "stdout"
        }
      ]
    },
    {
      "cell_type": "markdown",
      "metadata": {
        "id": "fzCTB_o72eLc",
        "colab_type": "text"
      },
      "source": [
        "# Question no. 2"
      ]
    },
    {
      "cell_type": "code",
      "metadata": {
        "id": "Kw-jcGM32hZ4",
        "colab_type": "code",
        "colab": {
          "base_uri": "https://localhost:8080/",
          "height": 70
        },
        "outputId": "7351e9a9-5fa9-4476-9b7e-a26a719d0cbe"
      },
      "source": [
        "arr1_zeros=np.zeros((10))\n",
        "print(\"Array of 10 zeros : \",arr1_zeros)\n",
        "arr1_ones=np.ones((10))\n",
        "print(\"Array of 10 ones : \",arr1_ones)\n",
        "arr1_fives=np.ones((10))*5\n",
        "print(\"Array of 10 fives : \",arr1_fives)"
      ],
      "execution_count": 13,
      "outputs": [
        {
          "output_type": "stream",
          "text": [
            "Array of 10 zeros :  [0. 0. 0. 0. 0. 0. 0. 0. 0. 0.]\n",
            "Array of 10 ones :  [1. 1. 1. 1. 1. 1. 1. 1. 1. 1.]\n",
            "Array of 10 fives :  [5. 5. 5. 5. 5. 5. 5. 5. 5. 5.]\n"
          ],
          "name": "stdout"
        }
      ]
    },
    {
      "cell_type": "markdown",
      "metadata": {
        "id": "sep2Snlo2iG1",
        "colab_type": "text"
      },
      "source": [
        "# Question no. 3"
      ]
    },
    {
      "cell_type": "code",
      "metadata": {
        "id": "GRanNEXx2lPl",
        "colab_type": "code",
        "colab": {
          "base_uri": "https://localhost:8080/",
          "height": 70
        },
        "outputId": "a8b4dac7-5a3e-46b0-a07a-2b8d73df115b"
      },
      "source": [
        "arr3=np.array([[1,2],[3,4]])\n",
        "print(\"Sum of array : \",np.sum(arr3))\n",
        "print(\"Sum along row : \",np.sum(arr3,axis=1))\n",
        "print(\"Sum along column : \",np.sum(arr3,axis=0))"
      ],
      "execution_count": 8,
      "outputs": [
        {
          "output_type": "stream",
          "text": [
            "Sum of array :  10\n",
            "Sum along row :  [3 7]\n",
            "Sum along column :  [4 6]\n"
          ],
          "name": "stdout"
        }
      ]
    },
    {
      "cell_type": "markdown",
      "metadata": {
        "id": "FDcD1HdK2los",
        "colab_type": "text"
      },
      "source": [
        "# Question no. 4"
      ]
    },
    {
      "cell_type": "code",
      "metadata": {
        "id": "HPjbmzgM3x6t",
        "colab_type": "code",
        "colab": {
          "base_uri": "https://localhost:8080/",
          "height": 87
        },
        "outputId": "8a7c5f17-f717-47e7-f0bf-39957e163fe7"
      },
      "source": [
        "print(\"Addition : \",np.add(5,10))\n",
        "print(\"Subtraction : \",np.subtract(5,10))\n",
        "print(\"Multiplication : \",np.multiply(5,10))\n",
        "print(\"Division : \",np.divide(5,10))"
      ],
      "execution_count": 22,
      "outputs": [
        {
          "output_type": "stream",
          "text": [
            "Addition :  15\n",
            "Subtraction :  -5\n",
            "Multiplication :  50\n",
            "Division :  0.5\n"
          ],
          "name": "stdout"
        }
      ]
    },
    {
      "cell_type": "markdown",
      "metadata": {
        "id": "EdrKxP9E8bEh",
        "colab_type": "text"
      },
      "source": [
        "# Question no. 5"
      ]
    },
    {
      "cell_type": "code",
      "metadata": {
        "id": "4SuecGTI8mMl",
        "colab_type": "code",
        "colab": {
          "base_uri": "https://localhost:8080/",
          "height": 141
        },
        "outputId": "957b6663-254f-4839-c182-fe5152988556"
      },
      "source": [
        "angles=np.array([0,30,45,60,90]) #Given angles in degress\n",
        "# Input of trignometric function is of radian type, so degree must be converted to radian\n",
        "print(\"Sin : \\n\",np.round(np.sin(angles*np.pi/180),2)) \n",
        "print(\"Cosine : \\n\",np.round(np.cos(angles*np.pi/180),2))\n",
        "print(\"Tangent : \\n\",np.round(np.tan(angles*np.pi/180),2))"
      ],
      "execution_count": 31,
      "outputs": [
        {
          "output_type": "stream",
          "text": [
            "Sin : \n",
            " [0.   0.5  0.71 0.87 1.  ]\n",
            "Cosine : \n",
            " [1.   0.87 0.71 0.5  0.  ]\n",
            "Tangent : \n",
            " [0.00000000e+00 5.80000000e-01 1.00000000e+00 1.73000000e+00\n",
            " 1.63312394e+16]\n"
          ],
          "name": "stdout"
        }
      ]
    },
    {
      "cell_type": "code",
      "metadata": {
        "id": "m8B_NjXS9L50",
        "colab_type": "code",
        "colab": {}
      },
      "source": [
        ""
      ],
      "execution_count": null,
      "outputs": []
    }
  ]
}