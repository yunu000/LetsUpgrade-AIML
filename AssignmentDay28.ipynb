{
  "nbformat": 4,
  "nbformat_minor": 0,
  "metadata": {
    "colab": {
      "name": "AssignmentDay28.ipynb",
      "provenance": [],
      "collapsed_sections": [],
      "authorship_tag": "ABX9TyNqifx93Cw8rLaVyKBrcXr8",
      "include_colab_link": true
    },
    "kernelspec": {
      "name": "python3",
      "display_name": "Python 3"
    }
  },
  "cells": [
    {
      "cell_type": "markdown",
      "metadata": {
        "id": "view-in-github",
        "colab_type": "text"
      },
      "source": [
        "<a href=\"https://colab.research.google.com/github/yunu000/LetsUpgrade-AIML/blob/master/AssignmentDay28.ipynb\" target=\"_parent\"><img src=\"https://colab.research.google.com/assets/colab-badge.svg\" alt=\"Open In Colab\"/></a>"
      ]
    },
    {
      "cell_type": "markdown",
      "metadata": {
        "id": "2wZmS5CjYVxS"
      },
      "source": [
        "# Question no. 1"
      ]
    },
    {
      "cell_type": "code",
      "metadata": {
        "id": "aO0lI_lwTZPc"
      },
      "source": [
        "from sklearn import metrics\n",
        "import numpy as np\n",
        "import seaborn as sns"
      ],
      "execution_count": 1,
      "outputs": []
    },
    {
      "cell_type": "code",
      "metadata": {
        "id": "ZxMic0PLTlrU"
      },
      "source": [
        "actual=np.array([1,0,1,0,1,0,1,0,0])\n",
        "predicted=np.array([1,1,1,0,1,0,0,0,0])\n",
        "target_names=['Class 0','Class 1']"
      ],
      "execution_count": 2,
      "outputs": []
    },
    {
      "cell_type": "code",
      "metadata": {
        "id": "LawmGxDkUSKs",
        "outputId": "1b2a2a7b-8fd4-4fc9-8982-25e3ad99f251",
        "colab": {
          "base_uri": "https://localhost:8080/",
          "height": 286
        }
      },
      "source": [
        "sns.heatmap(metrics.confusion_matrix(y_true=actual,y_pred=predicted),annot=True)"
      ],
      "execution_count": 3,
      "outputs": [
        {
          "output_type": "execute_result",
          "data": {
            "text/plain": [
              "<matplotlib.axes._subplots.AxesSubplot at 0x7fdeba7d4978>"
            ]
          },
          "metadata": {
            "tags": []
          },
          "execution_count": 3
        },
        {
          "output_type": "display_data",
          "data": {
            "image/png": "[encoded data removed]",
            "text/plain": [
              "<Figure size 432x288 with 2 Axes>"
            ]
          },
          "metadata": {
            "tags": [],
            "needs_background": "light"
          }
        }
      ]
    },
    {
      "cell_type": "code",
      "metadata": {
        "id": "aGCWPBXeVPZ8",
        "outputId": "1d8e833c-dd51-4d42-a89a-454fb7a05c63",
        "colab": {
          "base_uri": "https://localhost:8080/",
          "height": 176
        }
      },
      "source": [
        "print(metrics.classification_report(actual,predicted))"
      ],
      "execution_count": 4,
      "outputs": [
        {
          "output_type": "stream",
          "text": [
            "              precision    recall  f1-score   support\n",
            "\n",
            "           0       0.80      0.80      0.80         5\n",
            "           1       0.75      0.75      0.75         4\n",
            "\n",
            "    accuracy                           0.78         9\n",
            "   macro avg       0.78      0.78      0.78         9\n",
            "weighted avg       0.78      0.78      0.78         9\n",
            "\n"
          ],
          "name": "stdout"
        }
      ]
    },
    {
      "cell_type": "markdown",
      "metadata": {
        "id": "ngCfGdY5WPy_"
      },
      "source": [
        "# Question no. 2"
      ]
    },
    {
      "cell_type": "markdown",
      "metadata": {
        "id": "pWTiN3rdUUip"
      },
      "source": [
        "Here 0 represents cat and 1 represents dog"
      ]
    },
    {
      "cell_type": "code",
      "metadata": {
        "id": "3Z3wr1bmlFLt",
        "outputId": "ab4c2bf0-73f8-4ef9-e1c9-c06a38abec21",
        "colab": {
          "base_uri": "https://localhost:8080/",
          "height": 34
        }
      },
      "source": [
        "y_true=np.concatenate((np.zeros(50),np.ones(50)),axis=0,)\n",
        "y_true.shape"
      ],
      "execution_count": 21,
      "outputs": [
        {
          "output_type": "execute_result",
          "data": {
            "text/plain": [
              "(100,)"
            ]
          },
          "metadata": {
            "tags": []
          },
          "execution_count": 21
        }
      ]
    },
    {
      "cell_type": "code",
      "metadata": {
        "id": "ONxVGFOUl7FH"
      },
      "source": [
        "y_pred=np.concatenate((np.zeros(42),np.ones(8),np.ones(32),np.zeros(18)),axis=0)"
      ],
      "execution_count": 22,
      "outputs": []
    },
    {
      "cell_type": "code",
      "metadata": {
        "id": "Yhiy9L8tmFYr",
        "outputId": "b11cea19-927e-4e3f-b884-dfff17c3e51b",
        "colab": {
          "base_uri": "https://localhost:8080/",
          "height": 282
        }
      },
      "source": [
        "sns.heatmap(metrics.confusion_matrix(y_true=y_true,y_pred=y_pred),annot=True)"
      ],
      "execution_count": 23,
      "outputs": [
        {
          "output_type": "execute_result",
          "data": {
            "text/plain": [
              "<matplotlib.axes._subplots.AxesSubplot at 0x7fdeb72a27b8>"
            ]
          },
          "metadata": {
            "tags": []
          },
          "execution_count": 23
        },
        {
          "output_type": "display_data",
          "data": {
            "image/png": "[encoded data removed]",
            "text/plain": [
              "<Figure size 432x288 with 2 Axes>"
            ]
          },
          "metadata": {
            "tags": [],
            "needs_background": "light"
          }
        }
      ]
    },
    {
      "cell_type": "code",
      "metadata": {
        "id": "7IXd_uNWqOrA",
        "outputId": "6eac5bc0-5597-43f2-d864-66431b7d34b4",
        "colab": {
          "base_uri": "https://localhost:8080/",
          "height": 176
        }
      },
      "source": [
        "print(metrics.classification_report(y_true,y_pred))"
      ],
      "execution_count": 24,
      "outputs": [
        {
          "output_type": "stream",
          "text": [
            "              precision    recall  f1-score   support\n",
            "\n",
            "         0.0       0.70      0.84      0.76        50\n",
            "         1.0       0.80      0.64      0.71        50\n",
            "\n",
            "    accuracy                           0.74       100\n",
            "   macro avg       0.75      0.74      0.74       100\n",
            "weighted avg       0.75      0.74      0.74       100\n",
            "\n"
          ],
          "name": "stdout"
        }
      ]
    },
    {
      "cell_type": "markdown",
      "metadata": {
        "id": "IQ86JvZwVUGi"
      },
      "source": [
        "Using formulas"
      ]
    },
    {
      "cell_type": "code",
      "metadata": {
        "id": "59l1ZReQqN1n"
      },
      "source": [
        "tp,tn,fp,fn=42,32,18,8"
      ],
      "execution_count": 26,
      "outputs": []
    },
    {
      "cell_type": "code",
      "metadata": {
        "id": "aoorgT7JkNiO",
        "outputId": "3babf845-37f1-43e8-bc6b-ce284ca33902",
        "colab": {
          "base_uri": "https://localhost:8080/",
          "height": 34
        }
      },
      "source": [
        "recall_cat=tp/(tp+fn) #for cat i.e. for 0\n",
        "print(recall_cat)"
      ],
      "execution_count": 30,
      "outputs": [
        {
          "output_type": "stream",
          "text": [
            "0.84\n"
          ],
          "name": "stdout"
        }
      ]
    },
    {
      "cell_type": "code",
      "metadata": {
        "id": "-QYrS_WgkUHW",
        "outputId": "777f4c40-4314-4b44-82de-0a20310818b6",
        "colab": {
          "base_uri": "https://localhost:8080/",
          "height": 34
        }
      },
      "source": [
        "precision_cat=tp/(tp+fp) #for cat i.e. for 0\n",
        "print(precision_cat)"
      ],
      "execution_count": 31,
      "outputs": [
        {
          "output_type": "stream",
          "text": [
            "0.7\n"
          ],
          "name": "stdout"
        }
      ]
    },
    {
      "cell_type": "code",
      "metadata": {
        "id": "PY8QoPV_khn2",
        "outputId": "dc6da11a-fb57-4ab6-a52c-4fc601b5495d",
        "colab": {
          "base_uri": "https://localhost:8080/",
          "height": 34
        }
      },
      "source": [
        "f1_score_cat=2*recall_cat*precision_cat/(recall_cat+precision_cat) #for cat i.e. for 0\n",
        "print(f1_score_cat)"
      ],
      "execution_count": 37,
      "outputs": [
        {
          "output_type": "stream",
          "text": [
            "0.7636363636363636\n"
          ],
          "name": "stdout"
        }
      ]
    },
    {
      "cell_type": "code",
      "metadata": {
        "id": "CIgbwbqBVufm",
        "outputId": "eef4d255-0f8d-4f0d-8e41-1f12b4e749e2",
        "colab": {
          "base_uri": "https://localhost:8080/",
          "height": 34
        }
      },
      "source": [
        "recall_dog=tn/(tn+fp)\n",
        "print(recall_dog)"
      ],
      "execution_count": 34,
      "outputs": [
        {
          "output_type": "stream",
          "text": [
            "0.64\n"
          ],
          "name": "stdout"
        }
      ]
    },
    {
      "cell_type": "code",
      "metadata": {
        "id": "knXMCzqeWEvK",
        "outputId": "997fdef6-4edf-4380-b016-44b9427ebee9",
        "colab": {
          "base_uri": "https://localhost:8080/",
          "height": 34
        }
      },
      "source": [
        "precision_dog=tn/(tn+fn)\n",
        "print(precision_dog)"
      ],
      "execution_count": 36,
      "outputs": [
        {
          "output_type": "stream",
          "text": [
            "0.8\n"
          ],
          "name": "stdout"
        }
      ]
    },
    {
      "cell_type": "code",
      "metadata": {
        "id": "t7djGeQLWPJJ",
        "outputId": "d21f9669-1f2b-4e2c-b404-39436fa457db",
        "colab": {
          "base_uri": "https://localhost:8080/",
          "height": 34
        }
      },
      "source": [
        "f1_score_dog=2*recall_dog*precision_dog/(recall_dog+precision_dog)\n",
        "print(f1_score_dog)"
      ],
      "execution_count": 40,
      "outputs": [
        {
          "output_type": "stream",
          "text": [
            "0.7111111111111111\n"
          ],
          "name": "stdout"
        }
      ]
    },
    {
      "cell_type": "code",
      "metadata": {
        "id": "obOiElYYWsAX"
      },
      "source": [
        ""
      ],
      "execution_count": null,
      "outputs": []
    }
  ]
}