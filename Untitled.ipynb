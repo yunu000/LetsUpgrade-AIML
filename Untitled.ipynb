{
  "nbformat": 4,
  "nbformat_minor": 0,
  "metadata": {
    "colab": {
      "name": "Untitled",
      "provenance": [],
      "collapsed_sections": [],
      "mount_file_id": "1_nhCxV7sNm2kNX-8X6elVKKeKytZ1ruB",
      "authorship_tag": "ABX9TyMQJ8rjlg35sho3NuqpUxif",
      "include_colab_link": true
    },
    "kernelspec": {
      "name": "python3",
      "display_name": "Python 3"
    }
  },
  "cells": [
    {
      "cell_type": "markdown",
      "metadata": {
        "id": "view-in-github",
        "colab_type": "text"
      },
      "source": [
        "<a href=\"https://colab.research.google.com/github/yunu000/LetsUpgrade-AIML/blob/master/Untitled.ipynb\" target=\"_parent\"><img src=\"https://colab.research.google.com/assets/colab-badge.svg\" alt=\"Open In Colab\"/></a>"
      ]
    },
    {
      "cell_type": "code",
      "metadata": {
        "id": "ylXCaZjIJhU_"
      },
      "source": [
        "import pandas as pd\n",
        "import seaborn as sns"
      ],
      "execution_count": 48,
      "outputs": []
    },
    {
      "cell_type": "code",
      "metadata": {
        "id": "PAvIJyFbJ2Y-"
      },
      "source": [
        "df=pd.read_csv(\"/content/drive/My Drive/Copy of User_Data - Arindam Dev (1).csv\")"
      ],
      "execution_count": 49,
      "outputs": []
    },
    {
      "cell_type": "code",
      "metadata": {
        "id": "ZKOUSBNXJ7DQ",
        "outputId": "12929993-4d56-433e-a631-4a7c8f53d6fc",
        "colab": {
          "base_uri": "https://localhost:8080/",
          "height": 197
        }
      },
      "source": [
        "df.head()"
      ],
      "execution_count": 50,
      "outputs": [
        {
          "output_type": "execute_result",
          "data": {
            "text/html": [
              "<div>\n",
              "<style scoped>\n",
              "    .dataframe tbody tr th:only-of-type {\n",
              "        vertical-align: middle;\n",
              "    }\n",
              "\n",
              "    .dataframe tbody tr th {\n",
              "        vertical-align: top;\n",
              "    }\n",
              "\n",
              "    .dataframe thead th {\n",
              "        text-align: right;\n",
              "    }\n",
              "</style>\n",
              "<table border=\"1\" class=\"dataframe\">\n",
              "  <thead>\n",
              "    <tr style=\"text-align: right;\">\n",
              "      <th></th>\n",
              "      <th>User ID</th>\n",
              "      <th>Gender</th>\n",
              "      <th>Age</th>\n",
              "      <th>EstimatedSalary</th>\n",
              "      <th>Purchased</th>\n",
              "    </tr>\n",
              "  </thead>\n",
              "  <tbody>\n",
              "    <tr>\n",
              "      <th>0</th>\n",
              "      <td>15624510</td>\n",
              "      <td>Male</td>\n",
              "      <td>19</td>\n",
              "      <td>19000</td>\n",
              "      <td>0</td>\n",
              "    </tr>\n",
              "    <tr>\n",
              "      <th>1</th>\n",
              "      <td>15810944</td>\n",
              "      <td>Male</td>\n",
              "      <td>35</td>\n",
              "      <td>20000</td>\n",
              "      <td>0</td>\n",
              "    </tr>\n",
              "    <tr>\n",
              "      <th>2</th>\n",
              "      <td>15668575</td>\n",
              "      <td>Female</td>\n",
              "      <td>26</td>\n",
              "      <td>43000</td>\n",
              "      <td>0</td>\n",
              "    </tr>\n",
              "    <tr>\n",
              "      <th>3</th>\n",
              "      <td>15603246</td>\n",
              "      <td>Female</td>\n",
              "      <td>27</td>\n",
              "      <td>57000</td>\n",
              "      <td>0</td>\n",
              "    </tr>\n",
              "    <tr>\n",
              "      <th>4</th>\n",
              "      <td>15804002</td>\n",
              "      <td>Male</td>\n",
              "      <td>19</td>\n",
              "      <td>76000</td>\n",
              "      <td>0</td>\n",
              "    </tr>\n",
              "  </tbody>\n",
              "</table>\n",
              "</div>"
            ],
            "text/plain": [
              "    User ID  Gender  Age  EstimatedSalary  Purchased\n",
              "0  15624510    Male   19            19000          0\n",
              "1  15810944    Male   35            20000          0\n",
              "2  15668575  Female   26            43000          0\n",
              "3  15603246  Female   27            57000          0\n",
              "4  15804002    Male   19            76000          0"
            ]
          },
          "metadata": {
            "tags": []
          },
          "execution_count": 50
        }
      ]
    },
    {
      "cell_type": "code",
      "metadata": {
        "id": "kSOFxLF8J8JO",
        "outputId": "edf72abb-9ed0-40f8-bf72-08c9599049b0",
        "colab": {
          "base_uri": "https://localhost:8080/",
          "height": 123
        }
      },
      "source": [
        "df.isna().any()"
      ],
      "execution_count": 51,
      "outputs": [
        {
          "output_type": "execute_result",
          "data": {
            "text/plain": [
              "User ID            False\n",
              "Gender             False\n",
              "Age                False\n",
              "EstimatedSalary    False\n",
              "Purchased          False\n",
              "dtype: bool"
            ]
          },
          "metadata": {
            "tags": []
          },
          "execution_count": 51
        }
      ]
    },
    {
      "cell_type": "code",
      "metadata": {
        "id": "zkbIczHMKBFW",
        "outputId": "b38c6f00-396f-4050-b0bc-8c5907b2913d",
        "colab": {
          "base_uri": "https://localhost:8080/",
          "height": 567
        }
      },
      "source": [
        "sns.pairplot(data=df[['Age','EstimatedSalary','Purchased']])"
      ],
      "execution_count": 52,
      "outputs": [
        {
          "output_type": "execute_result",
          "data": {
            "text/plain": [
              "<seaborn.axisgrid.PairGrid at 0x7effce640e80>"
            ]
          },
          "metadata": {
            "tags": []
          },
          "execution_count": 52
        },
        {
          "output_type": "display_data",
          "data": {
            "image/png": "[encoded data removed]",
            "text/plain": [
              "<Figure size 540x540 with 12 Axes>"
            ]
          },
          "metadata": {
            "tags": [],
            "needs_background": "light"
          }
        }
      ]
    },
    {
      "cell_type": "code",
      "metadata": {
        "id": "tRsqk65pKw3_"
      },
      "source": [
        "X=df.iloc[:,[2,3]]\n",
        "Y=df.iloc[:,-1:]"
      ],
      "execution_count": 53,
      "outputs": []
    },
    {
      "cell_type": "code",
      "metadata": {
        "id": "f0NkvLuPLtry"
      },
      "source": [
        "from sklearn.model_selection import train_test_split\n",
        "x_train,x_test,y_train,y_test=train_test_split(X,Y,test_size=.3)"
      ],
      "execution_count": 54,
      "outputs": []
    },
    {
      "cell_type": "code",
      "metadata": {
        "id": "gW9rlrdhsq8r"
      },
      "source": [
        "from sklearn.preprocessing import StandardScaler\n",
        "st=StandardScaler()\n",
        "x_train=st.fit_transform(x_train)\n",
        "x_test=st.fit_transform(x_test)"
      ],
      "execution_count": 55,
      "outputs": []
    },
    {
      "cell_type": "code",
      "metadata": {
        "id": "sOz3IPFOiily",
        "outputId": "2013f473-44db-420e-f246-a76410eb6eee",
        "colab": {
          "base_uri": "https://localhost:8080/",
          "height": 72
        }
      },
      "source": [
        "from sklearn.ensemble import RandomForestClassifier\n",
        "classifier=RandomForestClassifier(n_estimators=90,max_depth=3)\n",
        "classifier.fit(x_train,y_train)\n",
        "y_pred=classifier.predict(x_test)"
      ],
      "execution_count": 56,
      "outputs": [
        {
          "output_type": "stream",
          "text": [
            "/usr/local/lib/python3.6/dist-packages/ipykernel_launcher.py:3: DataConversionWarning: A column-vector y was passed when a 1d array was expected. Please change the shape of y to (n_samples,), for example using ravel().\n",
            "  This is separate from the ipykernel package so we can avoid doing imports until\n"
          ],
          "name": "stderr"
        }
      ]
    },
    {
      "cell_type": "code",
      "metadata": {
        "id": "yYCG1ncZsmWB",
        "outputId": "1ed94f4e-dbf2-413d-c703-998d32299f52",
        "colab": {
          "base_uri": "https://localhost:8080/",
          "height": 34
        }
      },
      "source": [
        "from sklearn.metrics import accuracy_score\n",
        "accuracy_score(y_test,y_pred)"
      ],
      "execution_count": 57,
      "outputs": [
        {
          "output_type": "execute_result",
          "data": {
            "text/plain": [
              "0.9416666666666667"
            ]
          },
          "metadata": {
            "tags": []
          },
          "execution_count": 57
        }
      ]
    },
    {
      "cell_type": "code",
      "metadata": {
        "id": "O_xYAtg3tNHq",
        "outputId": "0df22af7-1b78-4a72-aabb-bdd0f6e03861",
        "colab": {
          "base_uri": "https://localhost:8080/",
          "height": 212
        }
      },
      "source": [
        "from sklearn.metrics import confusion_matrix\n",
        "from sklearn.metrics import classification_report\n",
        "print(confusion_matrix(y_test,y_pred))\n",
        "print(classification_report(y_test,y_pred))"
      ],
      "execution_count": 64,
      "outputs": [
        {
          "output_type": "stream",
          "text": [
            "[[70  4]\n",
            " [ 3 43]]\n",
            "              precision    recall  f1-score   support\n",
            "\n",
            "           0       0.96      0.95      0.95        74\n",
            "           1       0.91      0.93      0.92        46\n",
            "\n",
            "    accuracy                           0.94       120\n",
            "   macro avg       0.94      0.94      0.94       120\n",
            "weighted avg       0.94      0.94      0.94       120\n",
            "\n"
          ],
          "name": "stdout"
        }
      ]
    },
    {
      "cell_type": "code",
      "metadata": {
        "id": "PZCOF4kMwBdH",
        "outputId": "b56e890a-b510-48c2-fd56-af668730ab91",
        "colab": {
          "base_uri": "https://localhost:8080/",
          "height": 565
        }
      },
      "source": [
        "from sklearn import tree\n"
      ],
      "execution_count": 67,
      "outputs": [
        {
          "output_type": "error",
          "ename": "AttributeError",
          "evalue": "ignored",
          "traceback": [
            "\u001b[0;31m---------------------------------------------------------------------------\u001b[0m",
            "\u001b[0;31mAttributeError\u001b[0m                            Traceback (most recent call last)",
            "\u001b[0;32m<ipython-input-67-dbf7d07cb127>\u001b[0m in \u001b[0;36m<module>\u001b[0;34m()\u001b[0m\n\u001b[1;32m      1\u001b[0m \u001b[0;32mfrom\u001b[0m \u001b[0msklearn\u001b[0m \u001b[0;32mimport\u001b[0m \u001b[0mtree\u001b[0m\u001b[0;34m\u001b[0m\u001b[0;34m\u001b[0m\u001b[0m\n\u001b[0;32m----> 2\u001b[0;31m \u001b[0mtree\u001b[0m\u001b[0;34m.\u001b[0m\u001b[0mplot_tree\u001b[0m\u001b[0;34m(\u001b[0m\u001b[0mclassifier\u001b[0m\u001b[0;34m)\u001b[0m\u001b[0;34m\u001b[0m\u001b[0;34m\u001b[0m\u001b[0m\n\u001b[0m",
            "\u001b[0;32m/usr/local/lib/python3.6/dist-packages/sklearn/tree/_export.py\u001b[0m in \u001b[0;36mplot_tree\u001b[0;34m(decision_tree, max_depth, feature_names, class_names, label, filled, impurity, node_ids, proportion, rotate, rounded, precision, ax, fontsize)\u001b[0m\n\u001b[1;32m    174\u001b[0m         \u001b[0mproportion\u001b[0m\u001b[0;34m=\u001b[0m\u001b[0mproportion\u001b[0m\u001b[0;34m,\u001b[0m \u001b[0mrotate\u001b[0m\u001b[0;34m=\u001b[0m\u001b[0mrotate\u001b[0m\u001b[0;34m,\u001b[0m \u001b[0mrounded\u001b[0m\u001b[0;34m=\u001b[0m\u001b[0mrounded\u001b[0m\u001b[0;34m,\u001b[0m\u001b[0;34m\u001b[0m\u001b[0;34m\u001b[0m\u001b[0m\n\u001b[1;32m    175\u001b[0m         precision=precision, fontsize=fontsize)\n\u001b[0;32m--> 176\u001b[0;31m     \u001b[0;32mreturn\u001b[0m \u001b[0mexporter\u001b[0m\u001b[0;34m.\u001b[0m\u001b[0mexport\u001b[0m\u001b[0;34m(\u001b[0m\u001b[0mdecision_tree\u001b[0m\u001b[0;34m,\u001b[0m \u001b[0max\u001b[0m\u001b[0;34m=\u001b[0m\u001b[0max\u001b[0m\u001b[0;34m)\u001b[0m\u001b[0;34m\u001b[0m\u001b[0;34m\u001b[0m\u001b[0m\n\u001b[0m\u001b[1;32m    177\u001b[0m \u001b[0;34m\u001b[0m\u001b[0m\n\u001b[1;32m    178\u001b[0m \u001b[0;34m\u001b[0m\u001b[0m\n",
            "\u001b[0;32m/usr/local/lib/python3.6/dist-packages/sklearn/tree/_export.py\u001b[0m in \u001b[0;36mexport\u001b[0;34m(self, decision_tree, ax)\u001b[0m\n\u001b[1;32m    564\u001b[0m         \u001b[0max\u001b[0m\u001b[0;34m.\u001b[0m\u001b[0mclear\u001b[0m\u001b[0;34m(\u001b[0m\u001b[0;34m)\u001b[0m\u001b[0;34m\u001b[0m\u001b[0;34m\u001b[0m\u001b[0m\n\u001b[1;32m    565\u001b[0m         \u001b[0max\u001b[0m\u001b[0;34m.\u001b[0m\u001b[0mset_axis_off\u001b[0m\u001b[0;34m(\u001b[0m\u001b[0;34m)\u001b[0m\u001b[0;34m\u001b[0m\u001b[0;34m\u001b[0m\u001b[0m\n\u001b[0;32m--> 566\u001b[0;31m         my_tree = self._make_tree(0, decision_tree.tree_,\n\u001b[0m\u001b[1;32m    567\u001b[0m                                   decision_tree.criterion)\n\u001b[1;32m    568\u001b[0m         \u001b[0mdraw_tree\u001b[0m \u001b[0;34m=\u001b[0m \u001b[0mbuchheim\u001b[0m\u001b[0;34m(\u001b[0m\u001b[0mmy_tree\u001b[0m\u001b[0;34m)\u001b[0m\u001b[0;34m\u001b[0m\u001b[0;34m\u001b[0m\u001b[0m\n",
            "\u001b[0;31mAttributeError\u001b[0m: 'RandomForestClassifier' object has no attribute 'tree_'"
          ]
        },
        {
          "output_type": "display_data",
          "data": {
            "image/png": "[encoded data removed]",
            "text/plain": [
              "<Figure size 432x288 with 1 Axes>"
            ]
          },
          "metadata": {
            "tags": [],
            "needs_background": "light"
          }
        }
      ]
    },
    {
      "cell_type": "code",
      "metadata": {
        "id": "CFZcbz-vtgPm"
      },
      "source": [
        "#Using decission tree"
      ],
      "execution_count": 60,
      "outputs": []
    },
    {
      "cell_type": "code",
      "metadata": {
        "id": "cEXHXIlOvD1R"
      },
      "source": [
        "from sklearn.tree import DecisionTreeClassifier\n",
        "classi=DecisionTreeClassifier()\n",
        "classi.fit(x_train,y_train)\n",
        "dec_y_pred=classi.predict(x_test)"
      ],
      "execution_count": 62,
      "outputs": []
    },
    {
      "cell_type": "code",
      "metadata": {
        "id": "waW6PtUGvSHJ",
        "outputId": "4919292f-e6f8-4aed-c438-eb391e7253f5",
        "colab": {
          "base_uri": "https://localhost:8080/",
          "height": 34
        }
      },
      "source": [
        "accuracy_score(y_test,dec_y_pred)"
      ],
      "execution_count": 63,
      "outputs": [
        {
          "output_type": "execute_result",
          "data": {
            "text/plain": [
              "0.8416666666666667"
            ]
          },
          "metadata": {
            "tags": []
          },
          "execution_count": 63
        }
      ]
    },
    {
      "cell_type": "code",
      "metadata": {
        "id": "o1UZwpbGviuO",
        "outputId": "ea5541d9-8f7d-4972-a624-6371ad6a15b2",
        "colab": {
          "base_uri": "https://localhost:8080/",
          "height": 212
        }
      },
      "source": [
        "print(confusion_matrix(y_test,dec_y_pred))\n",
        "print(classification_report(y_test,dec_y_pred))"
      ],
      "execution_count": 65,
      "outputs": [
        {
          "output_type": "stream",
          "text": [
            "[[67  7]\n",
            " [12 34]]\n",
            "              precision    recall  f1-score   support\n",
            "\n",
            "           0       0.85      0.91      0.88        74\n",
            "           1       0.83      0.74      0.78        46\n",
            "\n",
            "    accuracy                           0.84       120\n",
            "   macro avg       0.84      0.82      0.83       120\n",
            "weighted avg       0.84      0.84      0.84       120\n",
            "\n"
          ],
          "name": "stdout"
        }
      ]
    },
    {
      "cell_type": "code",
      "metadata": {
        "id": "ZW-urIRswnaK",
        "outputId": "f69eca46-107a-48a7-8cca-512d6150ee19",
        "colab": {
          "base_uri": "https://localhost:8080/",
          "height": 1000
        }
      },
      "source": [
        "tree.plot_tree(classi)\n",
        "text_representation=tree.export_text(classi)\n",
        "print(text_representation)"
      ],
      "execution_count": 70,
      "outputs": [
        {
          "output_type": "stream",
          "text": [
            "|--- feature_0 <= 0.47\n",
            "|   |--- feature_1 <= 0.59\n",
            "|   |   |--- feature_0 <= -0.11\n",
            "|   |   |   |--- class: 0\n",
            "|   |   |--- feature_0 >  -0.11\n",
            "|   |   |   |--- feature_1 <= 0.41\n",
            "|   |   |   |   |--- feature_1 <= 0.14\n",
            "|   |   |   |   |   |--- feature_0 <= -0.01\n",
            "|   |   |   |   |   |   |--- feature_1 <= 0.02\n",
            "|   |   |   |   |   |   |   |--- feature_1 <= -0.25\n",
            "|   |   |   |   |   |   |   |   |--- class: 0\n",
            "|   |   |   |   |   |   |   |--- feature_1 >  -0.25\n",
            "|   |   |   |   |   |   |   |   |--- class: 1\n",
            "|   |   |   |   |   |   |--- feature_1 >  0.02\n",
            "|   |   |   |   |   |   |   |--- class: 0\n",
            "|   |   |   |   |   |--- feature_0 >  -0.01\n",
            "|   |   |   |   |   |   |--- class: 0\n",
            "|   |   |   |   |--- feature_1 >  0.14\n",
            "|   |   |   |   |   |--- feature_1 <= 0.26\n",
            "|   |   |   |   |   |   |--- feature_0 <= 0.28\n",
            "|   |   |   |   |   |   |   |--- feature_1 <= 0.18\n",
            "|   |   |   |   |   |   |   |   |--- class: 1\n",
            "|   |   |   |   |   |   |   |--- feature_1 >  0.18\n",
            "|   |   |   |   |   |   |   |   |--- feature_1 <= 0.23\n",
            "|   |   |   |   |   |   |   |   |   |--- class: 0\n",
            "|   |   |   |   |   |   |   |   |--- feature_1 >  0.23\n",
            "|   |   |   |   |   |   |   |   |   |--- class: 1\n",
            "|   |   |   |   |   |   |--- feature_0 >  0.28\n",
            "|   |   |   |   |   |   |   |--- class: 0\n",
            "|   |   |   |   |   |--- feature_1 >  0.26\n",
            "|   |   |   |   |   |   |--- feature_0 <= 0.38\n",
            "|   |   |   |   |   |   |   |--- class: 0\n",
            "|   |   |   |   |   |   |--- feature_0 >  0.38\n",
            "|   |   |   |   |   |   |   |--- feature_1 <= 0.29\n",
            "|   |   |   |   |   |   |   |   |--- class: 0\n",
            "|   |   |   |   |   |   |   |--- feature_1 >  0.29\n",
            "|   |   |   |   |   |   |   |   |--- class: 0\n",
            "|   |   |   |--- feature_1 >  0.41\n",
            "|   |   |   |   |--- class: 1\n",
            "|   |--- feature_1 >  0.59\n",
            "|   |   |--- feature_1 <= 1.46\n",
            "|   |   |   |--- feature_1 <= 1.12\n",
            "|   |   |   |   |--- class: 1\n",
            "|   |   |   |--- feature_1 >  1.12\n",
            "|   |   |   |   |--- feature_0 <= -0.69\n",
            "|   |   |   |   |   |--- class: 0\n",
            "|   |   |   |   |--- feature_0 >  -0.69\n",
            "|   |   |   |   |   |--- feature_1 <= 1.42\n",
            "|   |   |   |   |   |   |--- feature_0 <= 0.23\n",
            "|   |   |   |   |   |   |   |--- feature_1 <= 1.19\n",
            "|   |   |   |   |   |   |   |   |--- class: 0\n",
            "|   |   |   |   |   |   |   |--- feature_1 >  1.19\n",
            "|   |   |   |   |   |   |   |   |--- feature_0 <= -0.40\n",
            "|   |   |   |   |   |   |   |   |   |--- feature_1 <= 1.34\n",
            "|   |   |   |   |   |   |   |   |   |   |--- class: 0\n",
            "|   |   |   |   |   |   |   |   |   |--- feature_1 >  1.34\n",
            "|   |   |   |   |   |   |   |   |   |   |--- class: 0\n",
            "|   |   |   |   |   |   |   |   |--- feature_0 >  -0.40\n",
            "|   |   |   |   |   |   |   |   |   |--- feature_1 <= 1.31\n",
            "|   |   |   |   |   |   |   |   |   |   |--- feature_0 <= -0.16\n",
            "|   |   |   |   |   |   |   |   |   |   |   |--- class: 1\n",
            "|   |   |   |   |   |   |   |   |   |   |--- feature_0 >  -0.16\n",
            "|   |   |   |   |   |   |   |   |   |   |   |--- truncated branch of depth 2\n",
            "|   |   |   |   |   |   |   |   |   |--- feature_1 >  1.31\n",
            "|   |   |   |   |   |   |   |   |   |   |--- class: 0\n",
            "|   |   |   |   |   |   |--- feature_0 >  0.23\n",
            "|   |   |   |   |   |   |   |--- class: 1\n",
            "|   |   |   |   |   |--- feature_1 >  1.42\n",
            "|   |   |   |   |   |   |--- class: 1\n",
            "|   |   |--- feature_1 >  1.46\n",
            "|   |   |   |--- class: 1\n",
            "|--- feature_0 >  0.47\n",
            "|   |--- feature_0 <= 0.86\n",
            "|   |   |--- feature_1 <= -0.53\n",
            "|   |   |   |--- feature_0 <= 0.67\n",
            "|   |   |   |   |--- class: 0\n",
            "|   |   |   |--- feature_0 >  0.67\n",
            "|   |   |   |   |--- feature_0 <= 0.76\n",
            "|   |   |   |   |   |--- class: 1\n",
            "|   |   |   |   |--- feature_0 >  0.76\n",
            "|   |   |   |   |   |--- feature_1 <= -1.27\n",
            "|   |   |   |   |   |   |--- class: 0\n",
            "|   |   |   |   |   |--- feature_1 >  -1.27\n",
            "|   |   |   |   |   |   |--- class: 1\n",
            "|   |   |--- feature_1 >  -0.53\n",
            "|   |   |   |--- feature_1 <= 0.45\n",
            "|   |   |   |   |--- feature_1 <= 0.20\n",
            "|   |   |   |   |   |--- class: 0\n",
            "|   |   |   |   |--- feature_1 >  0.20\n",
            "|   |   |   |   |   |--- feature_0 <= 0.76\n",
            "|   |   |   |   |   |   |--- class: 0\n",
            "|   |   |   |   |   |--- feature_0 >  0.76\n",
            "|   |   |   |   |   |   |--- feature_1 <= 0.32\n",
            "|   |   |   |   |   |   |   |--- class: 1\n",
            "|   |   |   |   |   |   |--- feature_1 >  0.32\n",
            "|   |   |   |   |   |   |   |--- class: 0\n",
            "|   |   |   |--- feature_1 >  0.45\n",
            "|   |   |   |   |--- feature_1 <= 1.82\n",
            "|   |   |   |   |   |--- feature_1 <= 1.02\n",
            "|   |   |   |   |   |   |--- feature_1 <= 0.66\n",
            "|   |   |   |   |   |   |   |--- class: 1\n",
            "|   |   |   |   |   |   |--- feature_1 >  0.66\n",
            "|   |   |   |   |   |   |   |--- class: 0\n",
            "|   |   |   |   |   |--- feature_1 >  1.02\n",
            "|   |   |   |   |   |   |--- class: 1\n",
            "|   |   |   |   |--- feature_1 >  1.82\n",
            "|   |   |   |   |   |--- class: 0\n",
            "|   |--- feature_0 >  0.86\n",
            "|   |   |--- feature_0 <= 1.34\n",
            "|   |   |   |--- feature_0 <= 1.25\n",
            "|   |   |   |   |--- feature_1 <= -0.86\n",
            "|   |   |   |   |   |--- class: 1\n",
            "|   |   |   |   |--- feature_1 >  -0.86\n",
            "|   |   |   |   |   |--- feature_1 <= 0.30\n",
            "|   |   |   |   |   |   |--- feature_0 <= 1.01\n",
            "|   |   |   |   |   |   |   |--- feature_1 <= -0.71\n",
            "|   |   |   |   |   |   |   |   |--- class: 0\n",
            "|   |   |   |   |   |   |   |--- feature_1 >  -0.71\n",
            "|   |   |   |   |   |   |   |   |--- class: 1\n",
            "|   |   |   |   |   |   |--- feature_0 >  1.01\n",
            "|   |   |   |   |   |   |   |--- class: 0\n",
            "|   |   |   |   |   |--- feature_1 >  0.30\n",
            "|   |   |   |   |   |   |--- feature_1 <= 2.07\n",
            "|   |   |   |   |   |   |   |--- class: 1\n",
            "|   |   |   |   |   |   |--- feature_1 >  2.07\n",
            "|   |   |   |   |   |   |   |--- feature_0 <= 1.05\n",
            "|   |   |   |   |   |   |   |   |--- class: 0\n",
            "|   |   |   |   |   |   |   |--- feature_0 >  1.05\n",
            "|   |   |   |   |   |   |   |   |--- class: 1\n",
            "|   |   |   |--- feature_0 >  1.25\n",
            "|   |   |   |   |--- class: 0\n",
            "|   |   |--- feature_0 >  1.34\n",
            "|   |   |   |--- feature_0 <= 2.02\n",
            "|   |   |   |   |--- class: 1\n",
            "|   |   |   |--- feature_0 >  2.02\n",
            "|   |   |   |   |--- feature_0 <= 2.12\n",
            "|   |   |   |   |   |--- feature_1 <= -1.02\n",
            "|   |   |   |   |   |   |--- class: 1\n",
            "|   |   |   |   |   |--- feature_1 >  -1.02\n",
            "|   |   |   |   |   |   |--- feature_1 <= -0.14\n",
            "|   |   |   |   |   |   |   |--- class: 0\n",
            "|   |   |   |   |   |   |--- feature_1 >  -0.14\n",
            "|   |   |   |   |   |   |   |--- class: 1\n",
            "|   |   |   |   |--- feature_0 >  2.12\n",
            "|   |   |   |   |   |--- class: 1\n",
            "\n"
          ],
          "name": "stdout"
        },
        {
          "output_type": "display_data",
          "data": {
            "image/png": "[encoded data removed]",
            "text/plain": [
              "<Figure size 432x288 with 1 Axes>"
            ]
          },
          "metadata": {
            "tags": [],
            "needs_background": "light"
          }
        }
      ]
    },
    {
      "cell_type": "code",
      "metadata": {
        "id": "rIzp4h4pvwqp"
      },
      "source": [
        "#Thus it can be clearly seen that accuracy of random forest is much higher than that of decission tree"
      ],
      "execution_count": null,
      "outputs": []
    }
  ]
}