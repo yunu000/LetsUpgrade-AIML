{
  "nbformat": 4,
  "nbformat_minor": 0,
  "metadata": {
    "colab": {
      "name": "AssignmentDay06.ipynb",
      "provenance": [],
      "collapsed_sections": [],
      "authorship_tag": "ABX9TyNBFHO2oLDpDeTTCNZ8AS6W",
      "include_colab_link": true
    },
    "kernelspec": {
      "name": "python3",
      "display_name": "Python 3"
    }
  },
  "cells": [
    {
      "cell_type": "markdown",
      "metadata": {
        "id": "view-in-github",
        "colab_type": "text"
      },
      "source": [
        "<a href=\"https://colab.research.google.com/github/yunu000/LetsUpgrade-AIML/blob/master/AssignmentDay06.ipynb\" target=\"_parent\"><img src=\"https://colab.research.google.com/assets/colab-badge.svg\" alt=\"Open In Colab\"/></a>"
      ]
    },
    {
      "cell_type": "markdown",
      "metadata": {
        "id": "yuA2LGG04r7c",
        "colab_type": "text"
      },
      "source": [
        "# Question no. 1"
      ]
    },
    {
      "cell_type": "code",
      "metadata": {
        "id": "VMABbz5z4zaX",
        "colab_type": "code",
        "colab": {
          "base_uri": "https://localhost:8080/",
          "height": 87
        },
        "outputId": "636351a1-263c-49fa-99d4-59a8ed5ac63a"
      },
      "source": [
        "mail=input(\"Enter your mail id\\n\")\n",
        "s=mail.split(\"@\")\n",
        "s=s[1].split(\".\")\n",
        "print(\"\\nCompany name :\",s[0])"
      ],
      "execution_count": 69,
      "outputs": [
        {
          "output_type": "stream",
          "text": [
            "Enter your mail id\n",
            "john@google.com\n",
            "\n",
            "Company name : google\n"
          ],
          "name": "stdout"
        }
      ]
    },
    {
      "cell_type": "markdown",
      "metadata": {
        "id": "FqRGFoc35fQ1",
        "colab_type": "text"
      },
      "source": [
        "# Question no. 2"
      ]
    },
    {
      "cell_type": "code",
      "metadata": {
        "id": "6ujYLYET51zk",
        "colab_type": "code",
        "colab": {
          "base_uri": "https://localhost:8080/",
          "height": 105
        },
        "outputId": "cb391690-aae9-4ce4-b169-d19a80fde651"
      },
      "source": [
        "str=input(\"Enter words separated by commas.\\n\")\n",
        "str=str.split(\",\")\n",
        "str.sort()\n",
        "print(\"\\nSorted list :\")\n",
        "for i in range(len(str)):\n",
        "  if i<len(str)-1 :\n",
        "    print(str[i],end=\",\")\n",
        "  else:\n",
        "    print(str[i])"
      ],
      "execution_count": 70,
      "outputs": [
        {
          "output_type": "stream",
          "text": [
            "Enter words separated by commas.\n",
            "without,hello,bag,world\n",
            "\n",
            "Sorted list :\n",
            "bag,hello,without,world\n"
          ],
          "name": "stdout"
        }
      ]
    },
    {
      "cell_type": "markdown",
      "metadata": {
        "id": "sDr9kAt37EeQ",
        "colab_type": "text"
      },
      "source": [
        "# Question no. 3"
      ]
    },
    {
      "cell_type": "code",
      "metadata": {
        "id": "uYjwRg0w7HoC",
        "colab_type": "code",
        "colab": {
          "base_uri": "https://localhost:8080/",
          "height": 247
        },
        "outputId": "ce05d350-e354-4984-ee57-b82b28b7ecca"
      },
      "source": [
        "# Creating a set\n",
        "st={\"Hello\",\"Lets\",\"Upgrade\"}\n",
        "print(st)\n",
        "\n",
        "#Accessing items of list\n",
        "for i in st:\n",
        "  print(i,end=\" \")\n",
        "\n",
        "#Item present or not\n",
        "print(\"\\n\",\"Lets\" in st)\n",
        "\n",
        "#Adding item\n",
        "st.add(\"Lets start\")\n",
        "print(st)\n",
        "\n",
        "#Adding multiple items\n",
        "st.update([\"Now\",\"You\",\"are\",\"ready\",\"to go\"])\n",
        "print(st)\n",
        "\n",
        "#Getting length\n",
        "print(len(st))\n",
        "\n",
        "#Remove element and generates an error if not present\n",
        "st.remove(\"Lets start\")\n",
        "print(st)\n",
        "\n",
        "#use set.discard(\"item\") method\n",
        "st.discard(\"Lets start\")\n",
        "print(st)\n",
        "\n",
        "#Removing last element\n",
        "print(st.pop())\n",
        "print(st)\n",
        "\n",
        "#Joining two sets\n",
        "st1={\"A\",\"B\"}\n",
        "\n",
        "#set.union returns a set\n",
        "print(st.union(st1))\n",
        "\n",
        "#set.update updates the calling set\n",
        "st.update(st1)\n",
        "print(st)\n",
        "\n",
        "#Clearing a set\n",
        "st1.clear()\n",
        "print(st1)"
      ],
      "execution_count": 71,
      "outputs": [
        {
          "output_type": "stream",
          "text": [
            "{'Hello', 'Lets', 'Upgrade'}\n",
            "Hello Lets Upgrade \n",
            " True\n",
            "{'Lets start', 'Hello', 'Lets', 'Upgrade'}\n",
            "{'Hello', 'to go', 'Lets start', 'Now', 'Upgrade', 'You', 'Lets', 'are', 'ready'}\n",
            "9\n",
            "{'Hello', 'to go', 'Now', 'Upgrade', 'You', 'Lets', 'are', 'ready'}\n",
            "{'Hello', 'to go', 'Now', 'Upgrade', 'You', 'Lets', 'are', 'ready'}\n",
            "Hello\n",
            "{'to go', 'Now', 'Upgrade', 'You', 'Lets', 'are', 'ready'}\n",
            "{'ready', 'to go', 'A', 'B', 'Lets', 'Now', 'Upgrade', 'are', 'You'}\n",
            "{'to go', 'Now', 'Upgrade', 'You', 'A', 'B', 'Lets', 'are', 'ready'}\n",
            "set()\n"
          ],
          "name": "stdout"
        }
      ]
    },
    {
      "cell_type": "markdown",
      "metadata": {
        "id": "tpk7msU77H9Z",
        "colab_type": "text"
      },
      "source": [
        "\n",
        "# Question no. 4"
      ]
    },
    {
      "cell_type": "code",
      "metadata": {
        "id": "w9Zg14d17Kod",
        "colab_type": "code",
        "colab": {
          "base_uri": "https://localhost:8080/",
          "height": 70
        },
        "outputId": "841f0772-417c-47fe-ccdc-c9c97bb067ae"
      },
      "source": [
        "lst=input(\"Enter no. separated by space\\n\").split(\" \")\n",
        "n=len(lst)\n",
        "for i in range(n):\n",
        "  lst[i]=int(lst[i])\n",
        "obtainSum=sum(lst)\n",
        "actualSum=(n+1)*(n+2)/2\n",
        "print(\"Missing number:\",int(actualSum-obtainSum))"
      ],
      "execution_count": 72,
      "outputs": [
        {
          "output_type": "stream",
          "text": [
            "Enter no. separated by space\n",
            "1 2 4 6 3 7 8\n",
            "Missing number: 5\n"
          ],
          "name": "stdout"
        }
      ]
    },
    {
      "cell_type": "markdown",
      "metadata": {
        "id": "Lr1EQZMi8vts",
        "colab_type": "text"
      },
      "source": [
        "# Question no. 5"
      ]
    },
    {
      "cell_type": "code",
      "metadata": {
        "id": "9JVjPobx8yyU",
        "colab_type": "code",
        "colab": {
          "base_uri": "https://localhost:8080/",
          "height": 105
        },
        "outputId": "7cdebe35-10e2-4b53-b3cb-e006eea7f8b4"
      },
      "source": [
        "lst1=input(\"Enter no. separated by space\\n\").split(\" \")\n",
        "n=len(lst1)\n",
        "dic={}\n",
        "for i in range(n):\n",
        "  lst1[i]=int(lst1[i])\n",
        "  if lst1[i] not in dic:\n",
        "    dic[lst1[i]]=1\n",
        "print(\"\\nList after removing duplicates.\")\n",
        "for i in dic:\n",
        "  print(i,end=\" \")"
      ],
      "execution_count": 73,
      "outputs": [
        {
          "output_type": "stream",
          "text": [
            "Enter no. separated by space\n",
            "12 24 35 24 88 120 155 88 120 155\n",
            "\n",
            "List after removing duplicates.\n",
            "12 24 35 88 120 155 "
          ],
          "name": "stdout"
        }
      ]
    }
  ]
}